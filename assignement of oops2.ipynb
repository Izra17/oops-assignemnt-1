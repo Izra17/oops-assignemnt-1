{
 "cells": [
  {
   "cell_type": "code",
   "execution_count": 1,
   "metadata": {},
   "outputs": [
    {
     "name": "stdout",
     "output_type": "stream",
     "text": [
      "Toyota Camry starts.\n",
      "Toyota Camry stops.\n"
     ]
    }
   ],
   "source": [
    "#answer1\n",
    "# Abstraction refers to the concept of hiding complex implementation details and showing only the essential features of an object\n",
    "class Car:\n",
    "    def __init__(self, make, model):\n",
    "        self.make = make\n",
    "        self.model = model\n",
    "\n",
    "    def start(self):\n",
    "        print(f\"{self.make} {self.model} starts.\")\n",
    "\n",
    "    def stop(self):\n",
    "        print(f\"{self.make} {self.model} stops.\")\n",
    "\n",
    "\n",
    "car = Car(\"Toyota\", \"Camry\")\n",
    "\n",
    "\n",
    "car.start()  \n",
    "car.stop()  \n"
   ]
  },
  {
   "cell_type": "code",
   "execution_count": 2,
   "metadata": {},
   "outputs": [
    {
     "name": "stdout",
     "output_type": "stream",
     "text": [
      "Starting the Toyota Camry.\n"
     ]
    },
    {
     "ename": "AttributeError",
     "evalue": "'Car' object has no attribute '__make'",
     "output_type": "error",
     "traceback": [
      "\u001b[1;31m---------------------------------------------------------------------------\u001b[0m",
      "\u001b[1;31mAttributeError\u001b[0m                            Traceback (most recent call last)",
      "Cell \u001b[1;32mIn[2], line 21\u001b[0m\n\u001b[0;32m     17\u001b[0m car \u001b[38;5;241m=\u001b[39m Car(\u001b[38;5;124m\"\u001b[39m\u001b[38;5;124mToyota\u001b[39m\u001b[38;5;124m\"\u001b[39m, \u001b[38;5;124m\"\u001b[39m\u001b[38;5;124mCamry\u001b[39m\u001b[38;5;124m\"\u001b[39m)\n\u001b[0;32m     18\u001b[0m car\u001b[38;5;241m.\u001b[39mstart()  \n\u001b[1;32m---> 21\u001b[0m \u001b[38;5;28mprint\u001b[39m(car\u001b[38;5;241m.\u001b[39m__make)\n",
      "\u001b[1;31mAttributeError\u001b[0m: 'Car' object has no attribute '__make'"
     ]
    }
   ],
   "source": [
    "#answer2\n",
    "#Abstraction:Abstraction refers to the concept of hiding complex implementation details and showing only the essential features of an object. It allows us to focus on what an object does rather than how it achieves it.\n",
    "#encapsulation:Encapsulation refers to the bundling of data (attributes) and methods (functions) that operate on the data into a single unit or class. It restricts direct access to some of the object's components\n",
    "# Encapsulation: Bundling data and methods into a class\n",
    "          \n",
    "# example of encapsulation:\n",
    "\n",
    "class Car:\n",
    "    def __init__(self, make, model):\n",
    "        self.__make = make  \n",
    "        self.__model = model \n",
    "\n",
    "    def start(self):\n",
    "        print(f\"Starting the {self.__make} {self.__model}.\")\n",
    "\n",
    "\n",
    "car = Car(\"Toyota\", \"Camry\")\n",
    "car.start()  \n",
    "\n",
    "\n",
    "print(car.__make) \n"
   ]
  },
  {
   "cell_type": "code",
   "execution_count": 3,
   "metadata": {},
   "outputs": [
    {
     "name": "stdout",
     "output_type": "stream",
     "text": [
      "Circle Area: 28.274333882308138\n"
     ]
    }
   ],
   "source": [
    "# example of abstraction:\n",
    "from abc import ABC, abstractmethod\n",
    "\n",
    "\n",
    "class Shape(ABC):\n",
    "    @abstractmethod\n",
    "    def area(self):\n",
    "        pass\n",
    "\n",
    "\n",
    "class Circle(Shape):\n",
    "    def __init__(self, radius):\n",
    "        self.radius = radius\n",
    "\n",
    "    def area(self):\n",
    "        import math\n",
    "        return math.pi * self.radius ** 2\n",
    "\n",
    "\n",
    "circle = Circle(3)\n",
    "print(\"Circle Area:\", circle.area())  \n"
   ]
  },
  {
   "cell_type": "code",
   "execution_count": 4,
   "metadata": {},
   "outputs": [],
   "source": [
    "#answer 3\n",
    "#The abc module in Python stands for \"Abstract Base Classes.\" It provides a framework for defining abstract base classes (ABCs) and working with them. ABCs are classes that cannot be instantiated directly but can define a common interface that subclasses must implement."
   ]
  },
  {
   "cell_type": "code",
   "execution_count": 5,
   "metadata": {},
   "outputs": [
    {
     "name": "stdout",
     "output_type": "stream",
     "text": [
      "Current Balance: 1300\n"
     ]
    }
   ],
   "source": [
    "#answer4:\n",
    "\n",
    "#Data abstraction in programming refers to the concept of hiding the implementation details of data and exposing only the essential features or interface to the outside world.\n",
    "#1)define a class\n",
    "#2)do encapsulation\n",
    "#3)define methods in the class that expose the essential features of the data.\n",
    "#4) create objects of the class and interact  with the them using the methods defined in the class.\n",
    " \n",
    "class BankAccount:\n",
    "    def __init__(self, account_number, balance):\n",
    "        self.__account_number = account_number\n",
    "        self.__balance = balance\n",
    "\n",
    "    def deposit(self, amount):\n",
    "        self.__balance += amount\n",
    "\n",
    "    def withdraw(self, amount):\n",
    "        if self.__balance >= amount:\n",
    "            self.__balance -= amount\n",
    "        else:\n",
    "            print(\"Insufficient balance.\")\n",
    "\n",
    "    def get_balance(self):\n",
    "        return self.__balance\n",
    "\n",
    "\n",
    "account = BankAccount(\"123456789\", 1000)\n",
    "\n",
    "\n",
    "account.deposit(500)\n",
    "\n",
    "account.withdraw(200)\n",
    "\n",
    "\n",
    "print(\"Current Balance:\", account.get_balance())  \n"
   ]
  },
  {
   "cell_type": "code",
   "execution_count": null,
   "metadata": {},
   "outputs": [],
   "source": [
    "#answer 5:\n",
    "# no we cannot create an instance of an abstract class in python .\n",
    "# Abstract classes are meant to be used as base classes for other classes and are designed to be incomplete on their own. \n",
    "#They contain one or more abstract methods,which are methods without any implementation.\n",
    "# Attempting to create an instance of an abstract class would result in an error.\n",
    "#abstract classes in Python cannot be instantiated directly because they are incomplete and serve as blueprints for other classes to follow.\n",
    "# They enforce the implementation of abstract methods by their subclasses and are intended to be used as base classes."
   ]
  }
 ],
 "metadata": {
  "kernelspec": {
   "display_name": "base",
   "language": "python",
   "name": "python3"
  },
  "language_info": {
   "codemirror_mode": {
    "name": "ipython",
    "version": 3
   },
   "file_extension": ".py",
   "mimetype": "text/x-python",
   "name": "python",
   "nbconvert_exporter": "python",
   "pygments_lexer": "ipython3",
   "version": "3.11.5"
  }
 },
 "nbformat": 4,
 "nbformat_minor": 2
}
